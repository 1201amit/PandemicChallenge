{
 "cells": [
  {
   "cell_type": "code",
   "execution_count": 2,
   "metadata": {},
   "outputs": [],
   "source": [
    "import pandas as pd\n",
    "import csv\n",
    "import keras.backend as K\n",
    "import numpy as np\n",
    "import pandas as pd\n",
    "from keras.callbacks import EarlyStopping\n",
    "from keras.constraints import Constraint\n",
    "from keras.layers import Dense\n",
    "from keras.layers import Dropout\n",
    "from keras.layers import BatchNormalization\n",
    "# from keras.layers import Input\n",
    "# from keras.layers import LSTM\n",
    "# from keras.layers import Lambda\n",
    "from keras import Model\n",
    "from keras import layers\n",
    "from keras import Input\n",
    "\n",
    "class prescription_model1(Model):\n",
    "    def __init__(self, lookback_days=21):\n",
    "        super(prescription_model1, self).__init__()\n",
    "        self.dense1= Dense(units=256,activation='prelu', name='dense1')\n",
    "#         self.BN1= BatchNormalization()\n",
    "        self.dropout1= Dropout(0.2)\n",
    "        self.dense2= Dense(units=512,activation='prelu', name='dense2')\n",
    "        self.dropout2= Dropout(0.5)\n",
    "        self.dense3= Dense(units=256,activation='prelu', name='dense3')\n",
    "        self.dropout3= Dropout(0.2)\n",
    "        self.dense4= Dense(units=128,activation='prelu', name='dense4')\n",
    "        self.dropout4= Dropout(0.2)\n",
    "        self.dense5= Dense(units=64,activation='prelu', name='dense5')\n",
    "        self.dropout5=Dropout(0.5)\n",
    "        self.dense6= Dense(units=128,activation='prelu', name='dense6')\n",
    "        self.output= Dense(units=252,activation='relu', name='final_output')\n",
    "        \n",
    "    def call(self,input_, training=False):\n",
    "        x=self.dense1(input_)\n",
    "#         x=self.BN1(x)\n",
    "        x=self.dropout1(x)\n",
    "        x=self.dense2(x)\n",
    "        x=self.dropout2(x)\n",
    "        x=self.dense3(x)\n",
    "        x=self.dropout3(x)\n",
    "        x=self.dense4(x)\n",
    "        x=self.dropout4(x)\n",
    "        x=self.dense5(x)\n",
    "        x=self.dropout5(x)\n",
    "        x=self.dense6(x)\n",
    "#         x=self.dropout6(x)\n",
    "        x=self.output(x) \n",
    "        return x"
   ]
  }
 ],
 "metadata": {
  "kernelspec": {
   "display_name": "Python 3",
   "language": "python",
   "name": "python3"
  },
  "language_info": {
   "codemirror_mode": {
    "name": "ipython",
    "version": 3
   },
   "file_extension": ".py",
   "mimetype": "text/x-python",
   "name": "python",
   "nbconvert_exporter": "python",
   "pygments_lexer": "ipython3",
   "version": "3.6.9"
  }
 },
 "nbformat": 4,
 "nbformat_minor": 4
}
