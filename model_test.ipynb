{
 "cells": [
  {
   "cell_type": "markdown",
   "metadata": {},
   "source": [
    "### TODO \n",
    "1. Test for all countries and add country specific attributes. \n",
    "2. Ablation study with **pd.fillna()** and **pd.notna()**. \n",
    "3. Ablation study with and w/o growth_rate. "
   ]
  },
  {
   "cell_type": "markdown",
   "metadata": {},
   "source": [
    "### Common libraries "
   ]
  },
  {
   "cell_type": "code",
   "execution_count": 39,
   "metadata": {},
   "outputs": [],
   "source": [
    "import torch.nn.functional as F\n",
    "import torch \n",
    "import torch.optim as optim\n",
    "import sys\n",
    "import torch.nn as nn\n",
    "import pandas as pd \n",
    "import os \n",
    "import numpy as np"
   ]
  },
  {
   "cell_type": "markdown",
   "metadata": {},
   "source": [
    "### Reading data"
   ]
  },
  {
   "cell_type": "code",
   "execution_count": 45,
   "metadata": {},
   "outputs": [],
   "source": [
    "filenames = [\"c1_school_closing.csv\", \"c2_workplace_closing.csv\", \"c3_cancel_public_events.csv\",\n",
    "            \"c4_restrictions_on_gatherings.csv\", \"c5_close_public_transport.csv\", \"c6_stay_at_home_requirements.csv\", \"c7_movementrestrictions.csv\",\n",
    "            \"c8_internationaltravel.csv\", \"confirmed_cases.csv\"]\n",
    "# filenames = np.core.defchararray.add('timeseries/', np.asarray(filenames))\n",
    "npi_data = pd.DataFrame({})\n",
    "\n",
    "# date extraction \n",
    "file = filenames[0]\n",
    "npi_df = pd.read_csv(os.path.join('timeseries', file))\n",
    "npi_df = npi_df[npi_df['country_name']=='India'].iloc[:,3:].T\n",
    "npi_data['Date'] = npi_df[77].index.values\n",
    "npi_data['Index'] = npi_data['Date'].index.values\n",
    "\n",
    "# other attributes extraction \n",
    "for file in filenames:\n",
    "    npi_df = pd.read_csv(os.path.join('timeseries', file))\n",
    "    npi_df = npi_df[npi_df['country_name']=='India'].iloc[:,3:].T\n",
    "    npi_data[file[:-4]] = npi_df[77].values\n",
    "\n",
    "# compute growth rate \n",
    "npi_data['growth_rate'] = npi_data['confirmed_cases'].diff()\n",
    "npi_data['growth_rate'] = 100*npi_data['growth_rate']/npi_data['confirmed_cases'] # (0,1) or (0,100)\n",
    "\n",
    "# smoothing growth_rate\n",
    "# npi_data['growth_rate'] = npi_data['growth_rate'].rolling(5,win_type='gaussian').sum(std=3)\n",
    "\n",
    "# cleaning df\n",
    "\n",
    "npi_data = npi_data[64:]\n",
    "for col in npi_data.columns:\n",
    "    npi_data= npi_data[npi_data[col].notna()]"
   ]
  },
  {
   "cell_type": "markdown",
   "metadata": {},
   "source": [
    "### Baseline linear model "
   ]
  },
  {
   "cell_type": "code",
   "execution_count": 41,
   "metadata": {},
   "outputs": [],
   "source": [
    "class LinearModel(torch.nn.Module):\n",
    "    def __init__(self, in_=300, out_=1):\n",
    "        super(LinearModel, self).__init__()\n",
    "        self.linear1 = torch.nn.Linear(in_, 64)\n",
    "        self.linear2 = torch.nn.Linear(64, 8)\n",
    "        self.linear3 = torch.nn.Linear(8, 1)\n",
    "        self.relu = torch.nn.ReLU()\n",
    "    def forward(self, x):\n",
    "        x = x.reshape(-1)\n",
    "        x = self.linear1(x)\n",
    "        x = self.relu(x)\n",
    "        x = self.linear2(x)\n",
    "        x = self.relu(x)\n",
    "        x = self.linear3(x)\n",
    "        return x"
   ]
  },
  {
   "cell_type": "markdown",
   "metadata": {},
   "source": [
    "### Training baseline model without positional info\n",
    "\n",
    "1. Add country specific info here while creating dataset for model. "
   ]
  },
  {
   "cell_type": "code",
   "execution_count": 46,
   "metadata": {
    "scrolled": true
   },
   "outputs": [
    {
     "name": "stdout",
     "output_type": "stream",
     "text": [
      "attributes |  9\n",
      "training |  200\n",
      "test |  71\n",
      "---------------\n",
      "loss before training 48.37\n",
      "epoch 9 | training loss 367.78 | validation loss 9.33\n",
      "epoch 19 | training loss 283.78 | validation loss 5.06\n",
      "epoch 29 | training loss 211.07 | validation loss 3.96\n",
      "epoch 39 | training loss 144.08 | validation loss 2.89\n",
      "epoch 49 | training loss 100.24 | validation loss 2.67\n",
      "epoch 59 | training loss 73.42 | validation loss 2.81\n",
      "epoch 69 | training loss 56.47 | validation loss 3.08\n",
      "epoch 79 | training loss 46.60 | validation loss 3.27\n",
      "epoch 89 | training loss 37.74 | validation loss 3.21\n",
      "epoch 99 | training loss 31.56 | validation loss 3.31\n",
      "epoch 109 | training loss 34.36 | validation loss 3.70\n",
      "epoch 119 | training loss 29.89 | validation loss 5.32\n",
      "epoch 129 | training loss 28.55 | validation loss 7.07\n"
     ]
    },
    {
     "ename": "KeyboardInterrupt",
     "evalue": "",
     "output_type": "error",
     "traceback": [
      "\u001b[0;31m---------------------------------------------------------------------------\u001b[0m",
      "\u001b[0;31mKeyboardInterrupt\u001b[0m                         Traceback (most recent call last)",
      "\u001b[0;32m<ipython-input-46-99373d595a83>\u001b[0m in \u001b[0;36m<module>\u001b[0;34m\u001b[0m\n\u001b[1;32m     43\u001b[0m         \u001b[0my_pred\u001b[0m \u001b[0;34m=\u001b[0m \u001b[0mmodel\u001b[0m\u001b[0;34m(\u001b[0m\u001b[0mx_temp\u001b[0m\u001b[0;34m)\u001b[0m\u001b[0;34m\u001b[0m\u001b[0;34m\u001b[0m\u001b[0m\n\u001b[1;32m     44\u001b[0m         \u001b[0mloss\u001b[0m \u001b[0;34m=\u001b[0m \u001b[0mmse_loss\u001b[0m\u001b[0;34m(\u001b[0m\u001b[0my_pred\u001b[0m\u001b[0;34m,\u001b[0m \u001b[0my_train\u001b[0m\u001b[0;34m[\u001b[0m\u001b[0mi\u001b[0m\u001b[0;34m+\u001b[0m\u001b[0;36m1\u001b[0m\u001b[0;34m]\u001b[0m\u001b[0;34m)\u001b[0m\u001b[0;34m\u001b[0m\u001b[0;34m\u001b[0m\u001b[0m\n\u001b[0;32m---> 45\u001b[0;31m         \u001b[0mloss\u001b[0m\u001b[0;34m.\u001b[0m\u001b[0mbackward\u001b[0m\u001b[0;34m(\u001b[0m\u001b[0;34m)\u001b[0m\u001b[0;34m\u001b[0m\u001b[0;34m\u001b[0m\u001b[0m\n\u001b[0m\u001b[1;32m     46\u001b[0m         \u001b[0moptimizer\u001b[0m\u001b[0;34m.\u001b[0m\u001b[0mstep\u001b[0m\u001b[0;34m(\u001b[0m\u001b[0;34m)\u001b[0m\u001b[0;34m\u001b[0m\u001b[0;34m\u001b[0m\u001b[0m\n\u001b[1;32m     47\u001b[0m         \u001b[0mtraining_loss\u001b[0m \u001b[0;34m+=\u001b[0m \u001b[0mloss\u001b[0m\u001b[0;34m.\u001b[0m\u001b[0mitem\u001b[0m\u001b[0;34m(\u001b[0m\u001b[0;34m)\u001b[0m\u001b[0;34m\u001b[0m\u001b[0;34m\u001b[0m\u001b[0m\n",
      "\u001b[0;32m~/.local/lib/python3.6/site-packages/torch/tensor.py\u001b[0m in \u001b[0;36mbackward\u001b[0;34m(self, gradient, retain_graph, create_graph)\u001b[0m\n\u001b[1;32m    219\u001b[0m                 \u001b[0mretain_graph\u001b[0m\u001b[0;34m=\u001b[0m\u001b[0mretain_graph\u001b[0m\u001b[0;34m,\u001b[0m\u001b[0;34m\u001b[0m\u001b[0;34m\u001b[0m\u001b[0m\n\u001b[1;32m    220\u001b[0m                 create_graph=create_graph)\n\u001b[0;32m--> 221\u001b[0;31m         \u001b[0mtorch\u001b[0m\u001b[0;34m.\u001b[0m\u001b[0mautograd\u001b[0m\u001b[0;34m.\u001b[0m\u001b[0mbackward\u001b[0m\u001b[0;34m(\u001b[0m\u001b[0mself\u001b[0m\u001b[0;34m,\u001b[0m \u001b[0mgradient\u001b[0m\u001b[0;34m,\u001b[0m \u001b[0mretain_graph\u001b[0m\u001b[0;34m,\u001b[0m \u001b[0mcreate_graph\u001b[0m\u001b[0;34m)\u001b[0m\u001b[0;34m\u001b[0m\u001b[0;34m\u001b[0m\u001b[0m\n\u001b[0m\u001b[1;32m    222\u001b[0m \u001b[0;34m\u001b[0m\u001b[0m\n\u001b[1;32m    223\u001b[0m     \u001b[0;32mdef\u001b[0m \u001b[0mregister_hook\u001b[0m\u001b[0;34m(\u001b[0m\u001b[0mself\u001b[0m\u001b[0;34m,\u001b[0m \u001b[0mhook\u001b[0m\u001b[0;34m)\u001b[0m\u001b[0;34m:\u001b[0m\u001b[0;34m\u001b[0m\u001b[0;34m\u001b[0m\u001b[0m\n",
      "\u001b[0;32m~/.local/lib/python3.6/site-packages/torch/autograd/__init__.py\u001b[0m in \u001b[0;36mbackward\u001b[0;34m(tensors, grad_tensors, retain_graph, create_graph, grad_variables)\u001b[0m\n\u001b[1;32m    130\u001b[0m     Variable._execution_engine.run_backward(\n\u001b[1;32m    131\u001b[0m         \u001b[0mtensors\u001b[0m\u001b[0;34m,\u001b[0m \u001b[0mgrad_tensors_\u001b[0m\u001b[0;34m,\u001b[0m \u001b[0mretain_graph\u001b[0m\u001b[0;34m,\u001b[0m \u001b[0mcreate_graph\u001b[0m\u001b[0;34m,\u001b[0m\u001b[0;34m\u001b[0m\u001b[0;34m\u001b[0m\u001b[0m\n\u001b[0;32m--> 132\u001b[0;31m         allow_unreachable=True)  # allow_unreachable flag\n\u001b[0m\u001b[1;32m    133\u001b[0m \u001b[0;34m\u001b[0m\u001b[0m\n\u001b[1;32m    134\u001b[0m \u001b[0;34m\u001b[0m\u001b[0m\n",
      "\u001b[0;31mKeyboardInterrupt\u001b[0m: "
     ]
    }
   ],
   "source": [
    "history = 30\n",
    "\n",
    "y_total = npi_data['growth_rate'].values\n",
    "npi_data.drop(columns=['Date', 'confirmed_cases','growth_rate','Index'],inplace=True)\n",
    "x_total = npi_data.to_numpy(dtype=np.float)\n",
    "\n",
    "x_total = torch.from_numpy(x_total).to(dtype=torch.double)\n",
    "y_total = torch.from_numpy(y_total).to(dtype=torch.double)\n",
    "\n",
    "model = LinearModel(x_total.shape[1]*history).to(dtype=torch.double)\n",
    "optimizer = optim.Adam(model.parameters(), lr=1e-4)\n",
    "mse_loss = torch.nn.MSELoss()\n",
    "\n",
    "total_loss = 0.0\n",
    "split_index = 200\n",
    "\n",
    "x_train = torch.clone(x_total[0:split_index,:])\n",
    "y_train = torch.clone(y_total[0:split_index])\n",
    "x_test = torch.clone(x_total[split_index-history:,:])\n",
    "y_test = torch.clone(y_total[split_index-history:])\n",
    "\n",
    "print('attributes | ', x_train.shape[1])\n",
    "print('training | ', len(x_train))\n",
    "print('test | ', len(x_test)-history)\n",
    "print('-'*15)\n",
    "\n",
    "model.eval()\n",
    "\n",
    "# x_test = [#days, #attributes]\n",
    "\n",
    "for i in range(history,len(x_test)-1):\n",
    "    x_temp = x_test[i-history:i,:] # [30,9] --> [1,30*9]\n",
    "    y_pred = model(x_temp)\n",
    "    loss = mse_loss(y_pred, y_test[i+1])\n",
    "    total_loss += loss.item()\n",
    "print('loss before training %0.2f' %(total_loss))\n",
    "\n",
    "model.train()\n",
    "for epoch in range(200):\n",
    "    training_loss = 0.0\n",
    "    x_train = torch.clone(x_total[0:split_index,:])\n",
    "    y_train = torch.clone(y_total[0:split_index])\n",
    "    for i in range(history,len(x_train)-1):\n",
    "        optimizer.zero_grad() # make gradients zero \n",
    "        x_temp = x_train[i-history:i,:]\n",
    "        y_pred = model(x_temp)\n",
    "        loss = mse_loss(y_pred, y_train[i+1])\n",
    "        loss.backward() # computing gradients \n",
    "        optimizer.step() # updating weights \n",
    "        training_loss += loss.item() \n",
    "    if((epoch+1)%10 == 0):\n",
    "        model.eval()\n",
    "        validation_loss = 0.0\n",
    "        x_test = torch.clone(x_total[split_index-history:,:])\n",
    "        y_test = torch.clone(y_total[split_index-history:])\n",
    "        for i in range(history,len(x_test)-1):\n",
    "            x_temp = x_test[i-history:i,:]\n",
    "            y_pred = model(x_temp)\n",
    "            loss = mse_loss(y_pred, y_test[i+1])\n",
    "            validation_loss += loss.item()\n",
    "        print('epoch %d | training loss %0.2f | validation loss %0.2f'%(epoch, training_loss, validation_loss))\n",
    "        model.train()        "
   ]
  }
 ],
 "metadata": {
  "kernelspec": {
   "display_name": "Python 3",
   "language": "python",
   "name": "python3"
  },
  "language_info": {
   "codemirror_mode": {
    "name": "ipython",
    "version": 3
   },
   "file_extension": ".py",
   "mimetype": "text/x-python",
   "name": "python",
   "nbconvert_exporter": "python",
   "pygments_lexer": "ipython3",
   "version": "3.6.9"
  }
 },
 "nbformat": 4,
 "nbformat_minor": 4
}
